{
 "cells": [
  {
   "cell_type": "markdown",
   "metadata": {},
   "source": [
    "## Stacking"
   ]
  },
  {
   "cell_type": "markdown",
   "metadata": {},
   "source": [
    "### 參考資料:\n",
    "[Kaggle ensembling guide](https://mlwave.com/kaggle-ensembling-guide/)\n",
    "<p></p>\n",
    "[Introduction to Ensembling/Stacking in Python](https://www.kaggle.com/arthurtok/introduction-to-ensembling-stacking-in-python)\n"
   ]
  },
  {
   "cell_type": "markdown",
   "metadata": {},
   "source": [
    "#### 5-fold stacking\n",
    "![](https://pic4.zhimg.com/80/v2-84dbc338e11fb89320f2ba310ad69ceb_hd.jpg)"
   ]
  },
  {
   "cell_type": "markdown",
   "metadata": {},
   "source": [
    "#### stacking network\n",
    "![](http://mlwave.com/wp-content/uploads/2015/06/otto-backprop.png)"
   ]
  },
  {
   "cell_type": "code",
   "execution_count": 1,
   "metadata": {
    "collapsed": true
   },
   "outputs": [],
   "source": [
    "import pandas as pd\n",
    "import numpy as np\n",
    "import matplotlib.pyplot as plt\n",
    "%matplotlib inline\n"
   ]
  },
  {
   "cell_type": "code",
   "execution_count": 2,
   "metadata": {
    "collapsed": true
   },
   "outputs": [],
   "source": [
    "import warnings\n",
    "warnings.filterwarnings('ignore')"
   ]
  },
  {
   "cell_type": "code",
   "execution_count": 3,
   "metadata": {},
   "outputs": [
    {
     "name": "stdout",
     "output_type": "stream",
     "text": [
      "Automatically created module for IPython interactive environment\n"
     ]
    }
   ],
   "source": [
    "# Scikit-Learn 官網作圖函式\n",
    "print(__doc__)\n",
    "\n",
    "import numpy as np\n",
    "import matplotlib.pyplot as plt\n",
    "from sklearn.naive_bayes import GaussianNB\n",
    "from sklearn.svm import SVC\n",
    "from sklearn.datasets import load_digits\n",
    "from sklearn.model_selection import learning_curve\n",
    "from sklearn.model_selection import ShuffleSplit\n",
    "\n",
    "\n",
    "def plot_learning_curve(estimator, title, X, y, ylim=None, cv=None,\n",
    "                        n_jobs=1, train_sizes=np.linspace(.1, 1.0, 5)):\n",
    "    plt.figure(figsize=(10,6))  #調整作圖大小\n",
    "    plt.title(title)\n",
    "    if ylim is not None:\n",
    "        plt.ylim(*ylim)\n",
    "    plt.xlabel(\"Training examples\")\n",
    "    plt.ylabel(\"Score\")\n",
    "    train_sizes, train_scores, test_scores = learning_curve(\n",
    "        estimator, X, y, cv=cv, n_jobs=n_jobs, train_sizes=train_sizes)\n",
    "    train_scores_mean = np.mean(train_scores, axis=1)\n",
    "    train_scores_std = np.std(train_scores, axis=1)\n",
    "    test_scores_mean = np.mean(test_scores, axis=1)\n",
    "    test_scores_std = np.std(test_scores, axis=1)\n",
    "    plt.grid()\n",
    "\n",
    "    plt.fill_between(train_sizes, train_scores_mean - train_scores_std,\n",
    "                     train_scores_mean + train_scores_std, alpha=0.1,\n",
    "                     color=\"r\")\n",
    "    plt.fill_between(train_sizes, test_scores_mean - test_scores_std,\n",
    "                     test_scores_mean + test_scores_std, alpha=0.1, color=\"g\")\n",
    "    plt.plot(train_sizes, train_scores_mean, 'o-', color=\"r\",\n",
    "             label=\"Training score\")\n",
    "    plt.plot(train_sizes, test_scores_mean, 'o-', color=\"g\",\n",
    "             label=\"Cross-validation score\")\n",
    "\n",
    "    plt.legend(loc=\"best\")\n",
    "    return plt"
   ]
  },
  {
   "cell_type": "code",
   "execution_count": 4,
   "metadata": {
    "collapsed": true
   },
   "outputs": [],
   "source": [
    "# Class to extend the Sklearn classifier\n",
    "class SklearnHelper(object):\n",
    "    def __init__(self, clf, seed=0, params=None, seed_flag=False):\n",
    "        params['random_state'] = seed\n",
    "        \n",
    "        if(seed_flag == False):\n",
    "            params.pop('random_state')\n",
    "            \n",
    "        self.clf = clf(**params)\n",
    "\n",
    "    def train(self, x_train, y_train):\n",
    "        self.clf.fit(x_train, y_train)\n",
    "\n",
    "    def predict(self, x):\n",
    "        return self.clf.predict(x)\n",
    "    \n",
    "    def fit(self,x,y):\n",
    "        return self.clf.fit(x,y)\n",
    "\n",
    "    def feature_importances(self,x,y):\n",
    "        print(self.clf.fit(x,y).feature_importances_)\n",
    "        return self.clf.fit(x,y).feature_importances_"
   ]
  },
  {
   "cell_type": "code",
   "execution_count": 5,
   "metadata": {
    "collapsed": true
   },
   "outputs": [],
   "source": [
    "#Out-of-Fold Predictions\n",
    "\n",
    "def get_oof(clf, x_train, y_train, x_test):\n",
    "    oof_train = np.zeros((ntrain,))\n",
    "    oof_test = np.zeros((ntest,))\n",
    "    oof_test_skf = np.empty((NFOLDS, ntest))\n",
    "\n",
    "    for i, (train_index, test_index) in enumerate(kf): # kf:KFold(ntrain, n_folds= NFOLDS,...)\n",
    "        x_tr = x_train[train_index]\n",
    "        y_tr = y_train[train_index]\n",
    "        x_te = x_train[test_index]\n",
    "\n",
    "        clf.train(x_tr, y_tr)\n",
    "\n",
    "        oof_train[test_index] = clf.predict(x_te) # partial index from x_train\n",
    "        oof_test_skf[i, :] = clf.predict(x_test) # Row(n-Fold), Column(predict value)\n",
    "\n",
    "    #oof_test[:] = oof_test_skf.mean(axis=0) #predict value average by column, then output 1-row, ntest columns\n",
    "    #oof_test[:] = pd.DataFrame(oof_test_skf).mode(axis=0)[0]\n",
    "    #oof_test[:] = np.median(oof_test_skf, axis=0)\n",
    "    oof_test[:] = np.mean(oof_test_skf, axis=0)\n",
    "    return oof_train.reshape(-1, 1), oof_test.reshape(-1, 1) #make sure return n-rows, 1-column shape."
   ]
  },
  {
   "cell_type": "markdown",
   "metadata": {},
   "source": [
    "### Load Dataset"
   ]
  },
  {
   "cell_type": "code",
   "execution_count": 6,
   "metadata": {
    "collapsed": true
   },
   "outputs": [],
   "source": [
    "train = pd.read_csv('input/train.csv', encoding = \"utf-8\", dtype = {'type': np.int32})\n",
    "test = pd.read_csv('input/test.csv', encoding = \"utf-8\")"
   ]
  },
  {
   "cell_type": "code",
   "execution_count": 7,
   "metadata": {
    "collapsed": true
   },
   "outputs": [],
   "source": [
    "#把示範用的 type 4, 資料去除, 以免干擾建模\n",
    "train = train[train['type']!=4]"
   ]
  },
  {
   "cell_type": "code",
   "execution_count": 8,
   "metadata": {
    "collapsed": true
   },
   "outputs": [],
   "source": [
    "from sklearn.model_selection import train_test_split\n",
    "\n",
    "X = train[['花瓣寬度','花瓣長度','花萼寬度','花萼長度']]\n",
    "y = train['type']\n",
    "X_train, X_test, y_train, y_test = train_test_split(X, y, test_size = 0.3, random_state=100)"
   ]
  },
  {
   "cell_type": "code",
   "execution_count": 9,
   "metadata": {
    "collapsed": true
   },
   "outputs": [],
   "source": [
    "from sklearn.preprocessing import StandardScaler\n",
    "sc = StandardScaler()\n",
    "sc.fit(X_train)\n",
    "X_train_std = sc.transform(X_train)\n",
    "X_test_std = sc.transform(X_test)\n",
    "\n",
    "test_std = sc.transform(test[['花瓣寬度','花瓣長度','花萼寬度','花萼長度']])"
   ]
  },
  {
   "cell_type": "markdown",
   "metadata": {},
   "source": [
    "### Model Build"
   ]
  },
  {
   "cell_type": "code",
   "execution_count": 10,
   "metadata": {},
   "outputs": [
    {
     "name": "stderr",
     "output_type": "stream",
     "text": [
      "C:\\Anaconda3\\lib\\site-packages\\sklearn\\cross_validation.py:41: DeprecationWarning: This module was deprecated in version 0.18 in favor of the model_selection module into which all the refactored classes and functions are moved. Also note that the interface of the new CV iterators are different from that of this module. This module will be removed in 0.20.\n",
      "  \"This module will be removed in 0.20.\", DeprecationWarning)\n"
     ]
    }
   ],
   "source": [
    "from sklearn.cross_validation import KFold\n",
    "\n",
    "NFOLDS = 5 # set folds for out-of-fold prediction\n",
    "SEED = 0 # for reproducibility\n",
    "\n",
    "ntrain = X_train_std.shape[0] # X.shape[0]\n",
    "ntest = test_std.shape[0] # test.shape[0]\n",
    "\n",
    "kf = KFold(ntrain, n_folds= NFOLDS, random_state=SEED)"
   ]
  },
  {
   "cell_type": "code",
   "execution_count": 11,
   "metadata": {
    "collapsed": true
   },
   "outputs": [],
   "source": [
    "# Put in our parameters for said classifiers\n",
    "\n",
    "# Decision Tree\n",
    "dt_params = {\n",
    "    'criterion':'gini',\n",
    "    'max_depth':5\n",
    "}\n",
    "\n",
    "# KNN\n",
    "knn_params = {\n",
    "    'n_neighbors':5\n",
    "}\n",
    "\n",
    "# Random Forest parameters\n",
    "rf_params = {\n",
    "    'n_jobs': -1,\n",
    "    'n_estimators': 500,\n",
    "    'criterion': 'gini',\n",
    "    'max_depth': 4,\n",
    "    #'min_samples_leaf': 2,\n",
    "    'warm_start': True,\n",
    "    'oob_score': True,\n",
    "    'verbose': 0\n",
    "}\n",
    "\n",
    "# Extra Trees Parameters\n",
    "et_params = {\n",
    "    'n_jobs': -1,\n",
    "    'n_estimators': 800,\n",
    "    'max_depth': 6,\n",
    "    'min_samples_leaf': 2,\n",
    "    'verbose': 0\n",
    "}\n",
    "\n",
    "# AdaBoost parameters\n",
    "ada_params = {\n",
    "    'n_estimators': 800,\n",
    "    'learning_rate' : 0.75\n",
    "}\n",
    "\n",
    "# Gradient Boosting parameters\n",
    "gb_params = {\n",
    "    'n_estimators': 500,\n",
    "    'max_depth': 5,\n",
    "    'min_samples_leaf': 2,\n",
    "    'verbose': 0\n",
    "}\n",
    "\n",
    "# Support Vector Classifier parameters \n",
    "svc_params = {\n",
    "    'kernel' : 'linear',\n",
    "    'C' : 1.0,\n",
    "    'probability': True\n",
    "}\n",
    "\n",
    "# Support Vector Classifier parameters \n",
    "svcr_params = {\n",
    "    'kernel' : 'rbf',\n",
    "    'C' : 1.0,\n",
    "    'probability': True\n",
    "}\n",
    "\n",
    "# Bagging Classifier\n",
    "bag_params = {\n",
    "    'n_estimators' : 500,\n",
    "    'oob_score': True\n",
    "}\n",
    "\n",
    "#XGBoost Classifier\n",
    "xgbc_params = {\n",
    "    'n_estimators': 500,\n",
    "    'max_depth': 4,\n",
    "    'learning_rate': 0.05,\n",
    "    'nthread': -1\n",
    "}\n",
    "\n",
    "#Linear Discriminant Analysis\n",
    "lda_params = {}\n",
    "\n",
    "#Quadratic Discriminant Analysis\n",
    "qda1_params = {\n",
    "    'reg_param': 0.8,\n",
    "    'tol': 0.00001\n",
    "}\n",
    "\n",
    "#Quadratic Discriminant Analysis\n",
    "qda2_params = {\n",
    "    'reg_param': 0.6,\n",
    "    'tol': 0.0001\n",
    "}"
   ]
  },
  {
   "cell_type": "code",
   "execution_count": 12,
   "metadata": {
    "collapsed": true
   },
   "outputs": [],
   "source": [
    "from sklearn.ensemble import RandomForestClassifier, AdaBoostClassifier, GradientBoostingClassifier, ExtraTreesClassifier\n",
    "from sklearn.ensemble import BaggingClassifier\n",
    "from sklearn.tree import DecisionTreeClassifier\n",
    "from sklearn.neighbors import KNeighborsClassifier\n",
    "from sklearn.svm import SVC\n",
    "from xgboost import XGBClassifier\n",
    "from sklearn.discriminant_analysis import LinearDiscriminantAnalysis, QuadraticDiscriminantAnalysis\n",
    "\n",
    "dt = SklearnHelper(clf=DecisionTreeClassifier, seed=SEED, params=dt_params, seed_flag=True)\n",
    "knn = SklearnHelper(clf=KNeighborsClassifier, seed=SEED, params=knn_params)\n",
    "rf = SklearnHelper(clf=RandomForestClassifier, seed=SEED, params=rf_params, seed_flag=True)\n",
    "et = SklearnHelper(clf=ExtraTreesClassifier, seed=SEED, params=et_params, seed_flag=True)\n",
    "ada = SklearnHelper(clf=AdaBoostClassifier, seed=SEED, params=ada_params, seed_flag=True)\n",
    "gb = SklearnHelper(clf=GradientBoostingClassifier, seed=SEED, params=gb_params, seed_flag=True)\n",
    "svc = SklearnHelper(clf=SVC, seed=SEED, params=svc_params, seed_flag=True)\n",
    "svcr = SklearnHelper(clf=SVC, seed=SEED, params=svcr_params, seed_flag=True)\n",
    "bag = SklearnHelper(clf=BaggingClassifier, seed=SEED, params=bag_params, seed_flag=True)\n",
    "xgbc = SklearnHelper(clf=XGBClassifier, seed=SEED, params=xgbc_params)\n",
    "lda = SklearnHelper(clf=LinearDiscriminantAnalysis, seed=SEED, params=lda_params)\n",
    "qda1 = SklearnHelper(clf=QuadraticDiscriminantAnalysis, seed=SEED, params=qda1_params)\n",
    "qda2 = SklearnHelper(clf=QuadraticDiscriminantAnalysis, seed=SEED, params=qda2_params)"
   ]
  },
  {
   "cell_type": "code",
   "execution_count": 13,
   "metadata": {
    "collapsed": true
   },
   "outputs": [],
   "source": [
    "# Create Numpy arrays of train, test and target ( Survived) dataframes to feed into our models\n",
    "y_train = y_train.ravel() \n",
    "\n",
    "#y.ravel()\n",
    "#x_train = X.values # Creates an array of the train data\n",
    "#x_test = test.values # Creats an array of the test data\n",
    "\n",
    "#STD dataset:\n",
    "x_train = X_train_std\n",
    "x_test = test_std"
   ]
  },
  {
   "cell_type": "code",
   "execution_count": 14,
   "metadata": {
    "collapsed": true
   },
   "outputs": [],
   "source": [
    "# Create our OOF train and test predictions. These base results will be used as new features\n",
    "dt_oof_train, dt_oof_test = get_oof(dt, x_train, y_train, x_test) # Decision Tree\n",
    "knn_oof_train, knn_oof_test = get_oof(knn, x_train, y_train, x_test) # KNeighbors\n",
    "rf_oof_train, rf_oof_test = get_oof(rf, x_train, y_train, x_test) # Random Forest\n",
    "et_oof_train, et_oof_test = get_oof(et, x_train, y_train, x_test) # Extra Trees\n",
    "ada_oof_train, ada_oof_test = get_oof(ada, x_train, y_train, x_test) # AdaBoost \n",
    "gb_oof_train, gb_oof_test = get_oof(gb, x_train, y_train, x_test) # Gradient Boost\n",
    "svc_oof_train, svc_oof_test = get_oof(svc, x_train, y_train, x_test) # SVM-l\n",
    "svcr_oof_train, svcr_oof_test = get_oof(svcr, x_train, y_train, x_test) # SVM-r\n",
    "bag_oof_train, bag_oof_test = get_oof(bag, x_train, y_train, x_test) # Bagging\n",
    "xgbc_oof_train, xgbc_oof_test = get_oof(xgbc, x_train, y_train, x_test) # XGBoost\n",
    "lda_oof_train, lda_oof_test = get_oof(lda, x_train, y_train, x_test) # Linear Discriminant Analysis\n",
    "qda1_oof_train, qda1_oof_test = get_oof(qda1, x_train, y_train, x_test) # Quadratic Discriminant Analysis\n",
    "qda2_oof_train, qda2_oof_test = get_oof(qda2, x_train, y_train, x_test) # Quadratic Discriminant Analysis"
   ]
  },
  {
   "cell_type": "code",
   "execution_count": 15,
   "metadata": {},
   "outputs": [
    {
     "name": "stdout",
     "output_type": "stream",
     "text": [
      "[ 0.02732003  0.9285476   0.          0.04413236]\n",
      "[ 0.38856997  0.47201879  0.02827505  0.1111362 ]\n",
      "[ 0.41067952  0.39748945  0.06463249  0.11594853]\n",
      "[ 0.4825  0.5175  0.      0.    ]\n",
      "[ 0.0521605   0.05924376  0.01269347  0.01256894]\n",
      "[ 0.43434343  0.30909091  0.11717172  0.13939394]\n"
     ]
    }
   ],
   "source": [
    "dt_features = dt.feature_importances(x_train,y_train)\n",
    "##knn_features = knn.feature_importances(x_train,y_train)\n",
    "rf_features = rf.feature_importances(x_train,y_train)\n",
    "et_features = et.feature_importances(x_train, y_train)\n",
    "ada_features = ada.feature_importances(x_train, y_train)\n",
    "gb_features = gb.feature_importances(x_train,y_train)\n",
    "##svc_features = svc.feature_importances(x_train,y_train)\n",
    "##svcr_features = svcr.feature_importances(x_train,y_train)\n",
    "##bag_features = bag.feature_importances(x_train,y_train)\n",
    "xgbc_features = xgbc.feature_importances(x_train,y_train)\n",
    "##lda_features = lda.feature_importances(x_train,y_train)\n",
    "##qda1_features = qda1.feature_importances(x_train,y_train)\n",
    "##qda2_features = qda2.feature_importances(x_train,y_train)"
   ]
  },
  {
   "cell_type": "code",
   "execution_count": 16,
   "metadata": {
    "collapsed": true
   },
   "outputs": [],
   "source": [
    "cols = X.columns.values\n",
    "# Create a dataframe with features\n",
    "feature_dataframe = pd.DataFrame( {'features': cols,\n",
    "     'Decision Tree': dt_features,\n",
    "     'Random Forest': rf_features,\n",
    "     'Extra Trees': et_features,\n",
    "     'AdaBoost': ada_features,\n",
    "     'Gradient Boost': gb_features,\n",
    "     'XGBoost': xgbc_features\n",
    "    })"
   ]
  },
  {
   "cell_type": "code",
   "execution_count": 17,
   "metadata": {},
   "outputs": [
    {
     "data": {
      "text/html": [
       "<div>\n",
       "<style>\n",
       "    .dataframe thead tr:only-child th {\n",
       "        text-align: right;\n",
       "    }\n",
       "\n",
       "    .dataframe thead th {\n",
       "        text-align: left;\n",
       "    }\n",
       "\n",
       "    .dataframe tbody tr th {\n",
       "        vertical-align: top;\n",
       "    }\n",
       "</style>\n",
       "<table border=\"1\" class=\"dataframe\">\n",
       "  <thead>\n",
       "    <tr style=\"text-align: right;\">\n",
       "      <th></th>\n",
       "      <th>AdaBoost</th>\n",
       "      <th>Decision Tree</th>\n",
       "      <th>Extra Trees</th>\n",
       "      <th>Gradient Boost</th>\n",
       "      <th>Random Forest</th>\n",
       "      <th>XGBoost</th>\n",
       "      <th>features</th>\n",
       "      <th>mean</th>\n",
       "    </tr>\n",
       "  </thead>\n",
       "  <tbody>\n",
       "    <tr>\n",
       "      <th>0</th>\n",
       "      <td>0.4825</td>\n",
       "      <td>0.027320</td>\n",
       "      <td>0.410680</td>\n",
       "      <td>0.052160</td>\n",
       "      <td>0.388570</td>\n",
       "      <td>0.434343</td>\n",
       "      <td>花瓣寬度</td>\n",
       "      <td>0.299262</td>\n",
       "    </tr>\n",
       "    <tr>\n",
       "      <th>1</th>\n",
       "      <td>0.5175</td>\n",
       "      <td>0.928548</td>\n",
       "      <td>0.397489</td>\n",
       "      <td>0.059244</td>\n",
       "      <td>0.472019</td>\n",
       "      <td>0.309091</td>\n",
       "      <td>花瓣長度</td>\n",
       "      <td>0.447315</td>\n",
       "    </tr>\n",
       "    <tr>\n",
       "      <th>2</th>\n",
       "      <td>0.0000</td>\n",
       "      <td>0.000000</td>\n",
       "      <td>0.064632</td>\n",
       "      <td>0.012693</td>\n",
       "      <td>0.028275</td>\n",
       "      <td>0.117172</td>\n",
       "      <td>花萼寬度</td>\n",
       "      <td>0.037129</td>\n",
       "    </tr>\n",
       "    <tr>\n",
       "      <th>3</th>\n",
       "      <td>0.0000</td>\n",
       "      <td>0.044132</td>\n",
       "      <td>0.115949</td>\n",
       "      <td>0.012569</td>\n",
       "      <td>0.111136</td>\n",
       "      <td>0.139394</td>\n",
       "      <td>花萼長度</td>\n",
       "      <td>0.070530</td>\n",
       "    </tr>\n",
       "  </tbody>\n",
       "</table>\n",
       "</div>"
      ],
      "text/plain": [
       "   AdaBoost  Decision Tree  Extra Trees  Gradient Boost  Random Forest  \\\n",
       "0    0.4825       0.027320     0.410680        0.052160       0.388570   \n",
       "1    0.5175       0.928548     0.397489        0.059244       0.472019   \n",
       "2    0.0000       0.000000     0.064632        0.012693       0.028275   \n",
       "3    0.0000       0.044132     0.115949        0.012569       0.111136   \n",
       "\n",
       "    XGBoost features      mean  \n",
       "0  0.434343     花瓣寬度  0.299262  \n",
       "1  0.309091     花瓣長度  0.447315  \n",
       "2  0.117172     花萼寬度  0.037129  \n",
       "3  0.139394     花萼長度  0.070530  "
      ]
     },
     "execution_count": 17,
     "metadata": {},
     "output_type": "execute_result"
    }
   ],
   "source": [
    "# Create the new column containing the average of values\n",
    "feature_dataframe['mean'] = np.mean(feature_dataframe, axis= 1) # axis = 1 computes the mean row-wise\n",
    "feature_dataframe"
   ]
  },
  {
   "cell_type": "markdown",
   "metadata": {},
   "source": [
    "### First-Level Summary"
   ]
  },
  {
   "cell_type": "code",
   "execution_count": 18,
   "metadata": {},
   "outputs": [
    {
     "data": {
      "text/html": [
       "<div>\n",
       "<style>\n",
       "    .dataframe thead tr:only-child th {\n",
       "        text-align: right;\n",
       "    }\n",
       "\n",
       "    .dataframe thead th {\n",
       "        text-align: left;\n",
       "    }\n",
       "\n",
       "    .dataframe tbody tr th {\n",
       "        vertical-align: top;\n",
       "    }\n",
       "</style>\n",
       "<table border=\"1\" class=\"dataframe\">\n",
       "  <thead>\n",
       "    <tr style=\"text-align: right;\">\n",
       "      <th></th>\n",
       "      <th>AdaBoost</th>\n",
       "      <th>Bagging</th>\n",
       "      <th>DecisionTree</th>\n",
       "      <th>ExtraTrees</th>\n",
       "      <th>GradientBoost</th>\n",
       "      <th>KNeighbors</th>\n",
       "      <th>LDA</th>\n",
       "      <th>QDA-1</th>\n",
       "      <th>QDA-2</th>\n",
       "      <th>RandomForest</th>\n",
       "      <th>SVM-l</th>\n",
       "      <th>SVM-r</th>\n",
       "      <th>XGBoost</th>\n",
       "      <th>type</th>\n",
       "    </tr>\n",
       "  </thead>\n",
       "  <tbody>\n",
       "    <tr>\n",
       "      <th>0</th>\n",
       "      <td>3.0</td>\n",
       "      <td>3.0</td>\n",
       "      <td>3.0</td>\n",
       "      <td>3.0</td>\n",
       "      <td>3.0</td>\n",
       "      <td>3.0</td>\n",
       "      <td>3.0</td>\n",
       "      <td>3.0</td>\n",
       "      <td>3.0</td>\n",
       "      <td>3.0</td>\n",
       "      <td>3.0</td>\n",
       "      <td>3.0</td>\n",
       "      <td>3.0</td>\n",
       "      <td>3</td>\n",
       "    </tr>\n",
       "    <tr>\n",
       "      <th>1</th>\n",
       "      <td>3.0</td>\n",
       "      <td>3.0</td>\n",
       "      <td>3.0</td>\n",
       "      <td>3.0</td>\n",
       "      <td>3.0</td>\n",
       "      <td>3.0</td>\n",
       "      <td>3.0</td>\n",
       "      <td>3.0</td>\n",
       "      <td>3.0</td>\n",
       "      <td>3.0</td>\n",
       "      <td>3.0</td>\n",
       "      <td>3.0</td>\n",
       "      <td>3.0</td>\n",
       "      <td>3</td>\n",
       "    </tr>\n",
       "    <tr>\n",
       "      <th>2</th>\n",
       "      <td>1.0</td>\n",
       "      <td>1.0</td>\n",
       "      <td>1.0</td>\n",
       "      <td>1.0</td>\n",
       "      <td>1.0</td>\n",
       "      <td>1.0</td>\n",
       "      <td>1.0</td>\n",
       "      <td>1.0</td>\n",
       "      <td>1.0</td>\n",
       "      <td>1.0</td>\n",
       "      <td>1.0</td>\n",
       "      <td>1.0</td>\n",
       "      <td>1.0</td>\n",
       "      <td>1</td>\n",
       "    </tr>\n",
       "    <tr>\n",
       "      <th>3</th>\n",
       "      <td>2.0</td>\n",
       "      <td>2.0</td>\n",
       "      <td>2.0</td>\n",
       "      <td>2.0</td>\n",
       "      <td>2.0</td>\n",
       "      <td>2.0</td>\n",
       "      <td>2.0</td>\n",
       "      <td>2.0</td>\n",
       "      <td>2.0</td>\n",
       "      <td>2.0</td>\n",
       "      <td>2.0</td>\n",
       "      <td>2.0</td>\n",
       "      <td>2.0</td>\n",
       "      <td>2</td>\n",
       "    </tr>\n",
       "    <tr>\n",
       "      <th>4</th>\n",
       "      <td>1.0</td>\n",
       "      <td>1.0</td>\n",
       "      <td>1.0</td>\n",
       "      <td>1.0</td>\n",
       "      <td>1.0</td>\n",
       "      <td>1.0</td>\n",
       "      <td>1.0</td>\n",
       "      <td>1.0</td>\n",
       "      <td>1.0</td>\n",
       "      <td>1.0</td>\n",
       "      <td>1.0</td>\n",
       "      <td>1.0</td>\n",
       "      <td>1.0</td>\n",
       "      <td>1</td>\n",
       "    </tr>\n",
       "  </tbody>\n",
       "</table>\n",
       "</div>"
      ],
      "text/plain": [
       "   AdaBoost  Bagging  DecisionTree  ExtraTrees  GradientBoost  KNeighbors  \\\n",
       "0       3.0      3.0           3.0         3.0            3.0         3.0   \n",
       "1       3.0      3.0           3.0         3.0            3.0         3.0   \n",
       "2       1.0      1.0           1.0         1.0            1.0         1.0   \n",
       "3       2.0      2.0           2.0         2.0            2.0         2.0   \n",
       "4       1.0      1.0           1.0         1.0            1.0         1.0   \n",
       "\n",
       "   LDA  QDA-1  QDA-2  RandomForest  SVM-l  SVM-r  XGBoost  type  \n",
       "0  3.0    3.0    3.0           3.0    3.0    3.0      3.0     3  \n",
       "1  3.0    3.0    3.0           3.0    3.0    3.0      3.0     3  \n",
       "2  1.0    1.0    1.0           1.0    1.0    1.0      1.0     1  \n",
       "3  2.0    2.0    2.0           2.0    2.0    2.0      2.0     2  \n",
       "4  1.0    1.0    1.0           1.0    1.0    1.0      1.0     1  "
      ]
     },
     "execution_count": 18,
     "metadata": {},
     "output_type": "execute_result"
    }
   ],
   "source": [
    "#First-level output as new features\n",
    "base_predictions_train = pd.DataFrame({\n",
    "    'DecisionTree': dt_oof_train.ravel(),\n",
    "    'KNeighbors': knn_oof_train.ravel(),\n",
    "    'RandomForest': rf_oof_train.ravel(),\n",
    "    'ExtraTrees': et_oof_train.ravel(),\n",
    "    'AdaBoost': ada_oof_train.ravel(),\n",
    "    'GradientBoost': gb_oof_train.ravel(),\n",
    "    'SVM-l': svc_oof_train.ravel(),\n",
    "    'SVM-r': svcr_oof_train.ravel(),\n",
    "    'Bagging': bag_oof_train.ravel(),\n",
    "    'XGBoost': xgbc_oof_train.ravel(),\n",
    "    'LDA': lda_oof_train.ravel(),\n",
    "    'QDA-1': qda1_oof_train.ravel(),\n",
    "    'QDA-2': qda2_oof_train.ravel(),\n",
    "    'type': y_train\n",
    "    })\n",
    "base_predictions_train.head()"
   ]
  },
  {
   "cell_type": "code",
   "execution_count": 19,
   "metadata": {
    "collapsed": true
   },
   "outputs": [],
   "source": [
    "x_train = np.concatenate(( #dt_oof_train, \n",
    "                           knn_oof_train, \n",
    "                           rf_oof_train,\n",
    "                           et_oof_train, \n",
    "                           ada_oof_train, \n",
    "                           gb_oof_train, \n",
    "                           svc_oof_train, \n",
    "                           #svcr_oof_train,\n",
    "                           bag_oof_train, \n",
    "                           xgbc_oof_train,\n",
    "                           lda_oof_train,\n",
    "                           #qda1_oof_train, \n",
    "                           qda2_oof_train\n",
    "                         ), axis=1)\n",
    "x_test = np.concatenate(( #dt_oof_test,\n",
    "                          knn_oof_test, \n",
    "                          rf_oof_test,\n",
    "                          et_oof_test,\n",
    "                          ada_oof_test, \n",
    "                          gb_oof_test,\n",
    "                          svc_oof_test, \n",
    "                          #svcr_oof_test,\n",
    "                          bag_oof_test, \n",
    "                          xgbc_oof_test,\n",
    "                          lda_oof_test,\n",
    "                          #qda1_oof_test, \n",
    "                          qda2_oof_test\n",
    "                        ), axis=1)"
   ]
  },
  {
   "cell_type": "markdown",
   "metadata": {},
   "source": [
    "### Second Level Summary"
   ]
  },
  {
   "cell_type": "markdown",
   "metadata": {},
   "source": [
    "### Level-2 XGBoost"
   ]
  },
  {
   "cell_type": "code",
   "execution_count": 20,
   "metadata": {
    "collapsed": true
   },
   "outputs": [],
   "source": [
    "#Second level learning model\n",
    "import xgboost as xgb\n",
    "\n",
    "l2_gbm = xgb.XGBClassifier(\n",
    "         learning_rate = 0.05,\n",
    "         n_estimators= 2000,\n",
    "         max_depth= 4,\n",
    "         #min_child_weight= 2,\n",
    "         gamma=0.9,\n",
    "         subsample=0.8,\n",
    "         colsample_bytree=0.8,\n",
    "         #scale_pos_weight=1,\n",
    "         objective= 'binary:logistic',\n",
    "         nthread= -1\n",
    ").fit(x_train, y_train)"
   ]
  },
  {
   "cell_type": "code",
   "execution_count": 21,
   "metadata": {},
   "outputs": [
    {
     "name": "stdout",
     "output_type": "stream",
     "text": [
      "             precision    recall  f1-score   support\n",
      "\n",
      "          1       1.00      1.00      1.00        26\n",
      "          2       1.00      0.93      0.97        30\n",
      "          3       0.93      1.00      0.97        28\n",
      "\n",
      "avg / total       0.98      0.98      0.98        84\n",
      "\n"
     ]
    },
    {
     "data": {
      "text/plain": [
       "<module 'matplotlib.pyplot' from 'C:\\\\Anaconda3\\\\lib\\\\site-packages\\\\matplotlib\\\\pyplot.py'>"
      ]
     },
     "execution_count": 21,
     "metadata": {},
     "output_type": "execute_result"
    },
    {
     "data": {
      "image/png": "[encoded data removed]",
      "text/plain": [
       "<matplotlib.figure.Figure at 0xc3b32b0>"
      ]
     },
     "metadata": {},
     "output_type": "display_data"
    }
   ],
   "source": [
    "#level-2 CV: x_train, y_train\n",
    "\n",
    "from sklearn import metrics\n",
    "print(metrics.classification_report(y_train, l2_gbm.predict(x_train)))\n",
    "\n",
    "from sklearn.model_selection import KFold\n",
    "cv = KFold(n_splits=5, random_state=None, shuffle=True)\n",
    "estimator = l2_gbm\n",
    "plot_learning_curve(estimator, \"level2 - XGBoost\", x_train, y_train, cv=cv, train_sizes=np.linspace(0.2, 1.0, 8))"
   ]
  },
  {
   "cell_type": "code",
   "execution_count": 22,
   "metadata": {},
   "outputs": [
    {
     "name": "stdout",
     "output_type": "stream",
     "text": [
      "[1 1 1 1 1 1 1 1 1 1 2 2 2 2 2 2 2 2 2 2 3 3 3 3 3 3 2 3 3 3]\n"
     ]
    }
   ],
   "source": [
    "#level2 - XGB\n",
    "l2_gbm_pred = l2_gbm.predict(x_test)\n",
    "metrics.precision_recall_fscore_support(y_train, l2_gbm.predict(x_train), average='weighted')\n",
    "print(l2_gbm_pred)"
   ]
  },
  {
   "cell_type": "markdown",
   "metadata": {},
   "source": [
    "### Level-2  Linear Discriminant Analysis"
   ]
  },
  {
   "cell_type": "code",
   "execution_count": 23,
   "metadata": {},
   "outputs": [
    {
     "name": "stdout",
     "output_type": "stream",
     "text": [
      "             precision    recall  f1-score   support\n",
      "\n",
      "          1       1.00      1.00      1.00        26\n",
      "          2       1.00      0.93      0.97        30\n",
      "          3       0.93      1.00      0.97        28\n",
      "\n",
      "avg / total       0.98      0.98      0.98        84\n",
      "\n"
     ]
    }
   ],
   "source": [
    "from sklearn.discriminant_analysis import LinearDiscriminantAnalysis\n",
    "l2_lda = LinearDiscriminantAnalysis()\n",
    "l2_lda.fit(x_train, y_train)\n",
    "print(metrics.classification_report(y_train, l2_lda.predict(x_train)))\n",
    "\n",
    "from sklearn.model_selection import KFold\n",
    "cv = KFold(n_splits=5, random_state=None, shuffle=True)\n",
    "estimator = l2_lda\n",
    "#plot_learning_curve(estimator, \"lv2 Linear Discriminant Analysis\", x_train, y_train, cv=cv, train_sizes=np.linspace(0.2, 1.0, 8))"
   ]
  },
  {
   "cell_type": "code",
   "execution_count": 24,
   "metadata": {},
   "outputs": [
    {
     "name": "stdout",
     "output_type": "stream",
     "text": [
      "[1 1 1 1 1 1 1 1 1 1 2 2 2 2 2 2 2 2 2 2 3 3 3 3 3 3 2 3 3 3]\n"
     ]
    }
   ],
   "source": [
    "#level2 - LDA\n",
    "l2_lda_pred = l2_lda.predict(x_test)\n",
    "metrics.precision_recall_fscore_support(y_train, l2_lda.predict(x_train), average='weighted')\n",
    "print(l2_lda_pred)"
   ]
  },
  {
   "cell_type": "markdown",
   "metadata": {},
   "source": [
    "### Level-2  Quadratic Discriminant Analysis"
   ]
  },
  {
   "cell_type": "code",
   "execution_count": 25,
   "metadata": {},
   "outputs": [
    {
     "name": "stdout",
     "output_type": "stream",
     "text": [
      "             precision    recall  f1-score   support\n",
      "\n",
      "          1       1.00      1.00      1.00        26\n",
      "          2       1.00      0.93      0.97        30\n",
      "          3       0.93      1.00      0.97        28\n",
      "\n",
      "avg / total       0.98      0.98      0.98        84\n",
      "\n"
     ]
    },
    {
     "data": {
      "text/plain": [
       "<module 'matplotlib.pyplot' from 'C:\\\\Anaconda3\\\\lib\\\\site-packages\\\\matplotlib\\\\pyplot.py'>"
      ]
     },
     "execution_count": 25,
     "metadata": {},
     "output_type": "execute_result"
    },
    {
     "data": {
      "image/png": "[encoded data removed]",
      "text/plain": [
       "<matplotlib.figure.Figure at 0xc09dda0>"
      ]
     },
     "metadata": {},
     "output_type": "display_data"
    }
   ],
   "source": [
    "from sklearn.discriminant_analysis import QuadraticDiscriminantAnalysis\n",
    "l2_qda = QuadraticDiscriminantAnalysis(reg_param=0.01, tol=0.001)\n",
    "l2_qda.fit(x_train, y_train)\n",
    "print(metrics.classification_report(y_train, l2_qda.predict(x_train)))\n",
    "\n",
    "from sklearn.model_selection import KFold\n",
    "cv = KFold(n_splits=5, random_state=None, shuffle=True)\n",
    "estimator = l2_qda\n",
    "plot_learning_curve(estimator, \"Quadratic Discriminant Analysis\", x_train, y_train, cv=cv, train_sizes=np.linspace(0.2, 1.0, 8))"
   ]
  },
  {
   "cell_type": "code",
   "execution_count": 26,
   "metadata": {},
   "outputs": [
    {
     "name": "stdout",
     "output_type": "stream",
     "text": [
      "[1 1 1 1 1 1 1 1 1 1 2 2 2 2 2 2 2 2 2 2 3 3 3 3 3 3 2 3 3 3]\n"
     ]
    }
   ],
   "source": [
    "#level2 - QDA\n",
    "l2_qda_pred = l2_qda.predict(x_test)\n",
    "metrics.precision_recall_fscore_support(y_train, l2_qda.predict(x_train), average='weighted')\n",
    "print(l2_qda_pred)"
   ]
  },
  {
   "cell_type": "code",
   "execution_count": null,
   "metadata": {
    "collapsed": true
   },
   "outputs": [],
   "source": []
  }
 ],
 "metadata": {
  "kernelspec": {
   "display_name": "Python 3",
   "language": "python",
   "name": "python3"
  },
  "language_info": {
   "codemirror_mode": {
    "name": "ipython",
    "version": 3
   },
   "file_extension": ".py",
   "mimetype": "text/x-python",
   "name": "python",
   "nbconvert_exporter": "python",
   "pygments_lexer": "ipython3",
   "version": "3.6.9"
  },
  "widgets": {
   "state": {},
   "version": "1.1.2"
  }
 },
 "nbformat": 4,
 "nbformat_minor": 2
}
